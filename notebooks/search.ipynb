{
 "cells": [
  {
   "cell_type": "markdown",
   "metadata": {},
   "source": [
    "# Search\n",
    "\n",
    "This notebook describes how you can search a program space as defined by a grammar.\n",
    "Specifically, we will look at example-based search, where the goal is to find a program that is able to transform the inputs of every example to the corresponding output."
   ]
  },
  {
   "cell_type": "markdown",
   "metadata": {},
   "source": [
    "### Setup"
   ]
  },
  {
   "cell_type": "code",
   "execution_count": 1,
   "metadata": {},
   "outputs": [],
   "source": [
    "include(\"../src/HerbExamples.jl\")\n",
    "using .Herb"
   ]
  },
  {
   "cell_type": "markdown",
   "metadata": {},
   "source": [
    "### Defining the program space\n",
    "\n",
    "First, we need to define the program space using a grammar. If you are not familiar with how this works, please have a look at the notebook for creating grammars.\n",
    "\n",
    "Here, we create a basic grammar with a few arithmetic operators and a single variable `x`."
   ]
  },
  {
   "cell_type": "code",
   "execution_count": 2,
   "metadata": {},
   "outputs": [
    {
     "data": {
      "text/plain": [
       "1: Real = 0\n",
       "2: Real = 1\n",
       "3: Real = 2\n",
       "4: Real = 3\n",
       "5: Real = 4\n",
       "6: Real = 5\n",
       "7: Real = 6\n",
       "8: Real = 7\n",
       "9: Real = 8\n",
       "10: Real = 9\n",
       "11: Real = x\n",
       "12: Real = Real + Real\n",
       "13: Real = Real - Real\n",
       "14: Real = Real * Real\n"
      ]
     },
     "execution_count": 2,
     "metadata": {},
     "output_type": "execute_result"
    }
   ],
   "source": [
    "g₁ = Herb.Grammars.@cfgrammar begin\n",
    "    Real = |(0:9)\n",
    "    Real = x\n",
    "    Real = Real + Real\n",
    "    Real = Real - Real\n",
    "    Real = Real * Real\n",
    "end"
   ]
  },
  {
   "cell_type": "markdown",
   "metadata": {},
   "source": [
    "### Defining the problem"
   ]
  },
  {
   "cell_type": "markdown",
   "metadata": {},
   "source": [
    "As mentioned before, we are looking at example-based search. \n",
    "This means that the problem is defined by a set of input-output examples. \n",
    "An input-output example consists of an input and an output, as the name suggests.\n",
    "The input is defined as a dictionary, with a value assigned to each variable in the grammar.\n",
    "It is important to write the variable name as a `Symbol` instead of a string.\n",
    "A `Symbol` in Julia is written with a colon prefix, i.e. `:x`. \n",
    "The output of the input-output example is just a single value.\n",
    "\n",
    "In the cell below we automatically generate some examples for x-values 1-5."
   ]
  },
  {
   "cell_type": "code",
   "execution_count": 3,
   "metadata": {},
   "outputs": [
    {
     "data": {
      "text/plain": [
       "5-element Vector{Main.Herb.Data.IOExample}:\n",
       " Main.Herb.Data.IOExample(Dict(:x => 1), 8)\n",
       " Main.Herb.Data.IOExample(Dict(:x => 2), 11)\n",
       " Main.Herb.Data.IOExample(Dict(:x => 3), 14)\n",
       " Main.Herb.Data.IOExample(Dict(:x => 4), 17)\n",
       " Main.Herb.Data.IOExample(Dict(:x => 5), 20)"
      ]
     },
     "execution_count": 3,
     "metadata": {},
     "output_type": "execute_result"
    }
   ],
   "source": [
    "# Create input-output examples\n",
    "examples = [Herb.Data.IOExample(Dict(:x => x), 3x+5) for x ∈ 1:5]"
   ]
  },
  {
   "cell_type": "markdown",
   "metadata": {},
   "source": [
    "Now that we have some input-output examples, we can define the problem. \n",
    "Next to the examples, a problem also contains a name, which can be used to keep track of them. \n",
    "For now, this is irrelevant, and you can give the program any name you like."
   ]
  },
  {
   "cell_type": "code",
   "execution_count": 4,
   "metadata": {},
   "outputs": [
    {
     "data": {
      "text/plain": [
       "Main.Herb.Data.Problem(Main.Herb.Data.Example[Main.Herb.Data.IOExample(Dict(:x => 1), 8), Main.Herb.Data.IOExample(Dict(:x => 2), 11), Main.Herb.Data.IOExample(Dict(:x => 3), 14), Main.Herb.Data.IOExample(Dict(:x => 4), 17), Main.Herb.Data.IOExample(Dict(:x => 5), 20)], \"example\")"
      ]
     },
     "execution_count": 4,
     "metadata": {},
     "output_type": "execute_result"
    }
   ],
   "source": [
    "problem = Herb.Data.Problem(examples, \"example\")"
   ]
  },
  {
   "cell_type": "markdown",
   "metadata": {},
   "source": [
    "### Searching\n",
    "\n",
    "Now that we have defined the search space and the goal of the search, we can start the search. \n",
    "\n",
    "Of course, our problem is underdefined; there might be multiple programs that satisfy our examples. \n",
    "Consider the case where we also have a ternary operator and some boolean operators in our grammar: we could synthesize the program `x ≤ 5 ? 3x+5 : 0`. \n",
    "This program satisfies all our examples, but we don't expect it to generalize very well.\n",
    "\n",
    "In general, we assume that a smaller program is more general than a larger program. \n",
    "Therefore, we search for the smallest program in our grammar that satisfies our examples. \n",
    "This can be done using a breadth-first search over the program/search space.\n",
    "\n",
    "This search is very basic; it makes use of an enumeration technique, where we enumerate programs one-by-one until we find a program that matches our examples.\n",
    "\n",
    "Such a search is done by passing the grammar, the problem, the maximum depth of the programs we want to search for (3), and a constructor for a breadth-first search enumerator to the basic enumerative search procedure:"
   ]
  },
  {
   "cell_type": "code",
   "execution_count": 5,
   "metadata": {},
   "outputs": [
    {
     "data": {
      "text/plain": [
       ":(3x + 5)"
      ]
     },
     "execution_count": 5,
     "metadata": {},
     "output_type": "execute_result"
    }
   ],
   "source": [
    "Herb.Search.search(g₁, problem, 3, Herb.Search.get_bfs_enumerator)"
   ]
  },
  {
   "cell_type": "markdown",
   "metadata": {},
   "source": [
    "As you can see, the search procedure found the correct program!"
   ]
  },
  {
   "cell_type": "code",
   "execution_count": null,
   "metadata": {},
   "outputs": [],
   "source": []
  }
 ],
 "metadata": {
  "kernelspec": {
   "display_name": "Julia 1.8.2",
   "language": "julia",
   "name": "julia-1.8"
  },
  "language_info": {
   "file_extension": ".jl",
   "mimetype": "application/julia",
   "name": "julia",
   "version": "1.8.2"
  }
 },
 "nbformat": 4,
 "nbformat_minor": 4
}
