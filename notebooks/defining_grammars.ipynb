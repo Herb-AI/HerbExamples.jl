{
 "cells": [
  {
   "cell_type": "markdown",
   "metadata": {},
   "source": [
    "# Defining Grammars in Herb.jl\n",
    "\n",
    "The program space in Herb.jl is defined using a (context-free) grammar. \n",
    "This notebook guides demonstrates how such a grammar can be created. "
   ]
  },
  {
   "cell_type": "markdown",
   "metadata": {},
   "source": [
    "### Setup"
   ]
  },
  {
   "cell_type": "code",
   "execution_count": 1,
   "metadata": {},
   "outputs": [],
   "source": [
    "include(\"../src/HerbExamples.jl\")\n",
    "using .Herb"
   ]
  },
  {
   "cell_type": "markdown",
   "metadata": {},
   "source": [
    "### Creating a simple grammar"
   ]
  },
  {
   "cell_type": "code",
   "execution_count": 2,
   "metadata": {},
   "outputs": [
    {
     "data": {
      "text/plain": [
       "1: Int = 1\n",
       "2: Int = 2\n",
       "3: Int = 3\n",
       "4: Int = Int * Int\n",
       "5: Int = Int + Int\n"
      ]
     },
     "execution_count": 2,
     "metadata": {},
     "output_type": "execute_result"
    }
   ],
   "source": [
    "g₁ = Herb.Grammars.@cfgrammar begin\n",
    "    Int = 1\n",
    "    Int = 2\n",
    "    Int = 3\n",
    "    Int = Int * Int\n",
    "    Int = Int + Int\n",
    "end"
   ]
  },
  {
   "cell_type": "markdown",
   "metadata": {},
   "source": [
    "This cell contains a very simple arithmetic grammar. \n",
    "The grammar is defined using the `@cfgrammar` macro. \n",
    "This macro converts the grammar definition in the form of a Julia expression into Herb's internal grammar representation. \n",
    "Macro's are executed during compilation.\n",
    "If you want to load a grammar during execution, have a look at the `Herb.Grammars.expr2cfgrammar` function.\n",
    "\n",
    "Defining every integer one-by-one can be quite tedious. Therefore, it is also possible to use the following syntax that makes use of a Julia iterator:"
   ]
  },
  {
   "cell_type": "code",
   "execution_count": 3,
   "metadata": {},
   "outputs": [
    {
     "data": {
      "text/plain": [
       "1: Int = 0\n",
       "2: Int = 1\n",
       "3: Int = 2\n",
       "4: Int = 3\n",
       "5: Int = 4\n",
       "6: Int = 5\n",
       "7: Int = 6\n",
       "8: Int = 7\n",
       "9: Int = 8\n",
       "10: Int = 9\n",
       "11: Int = Int * Int\n",
       "12: Int = Int + Int\n"
      ]
     },
     "execution_count": 3,
     "metadata": {},
     "output_type": "execute_result"
    }
   ],
   "source": [
    "g₁ = Herb.Grammars.@cfgrammar begin\n",
    "    Int = |(0:9)\n",
    "    Int = Int * Int\n",
    "    Int = Int + Int\n",
    "end"
   ]
  },
  {
   "cell_type": "markdown",
   "metadata": {},
   "source": [
    "You can do the same with lists:"
   ]
  },
  {
   "cell_type": "code",
   "execution_count": 4,
   "metadata": {},
   "outputs": [
    {
     "data": {
      "text/plain": [
       "1: Int = 0\n",
       "2: Int = 2\n",
       "3: Int = 4\n",
       "4: Int = 6\n",
       "5: Int = 8\n",
       "6: Int = Int * Int\n",
       "7: Int = Int + Int\n"
      ]
     },
     "execution_count": 4,
     "metadata": {},
     "output_type": "execute_result"
    }
   ],
   "source": [
    "g₁ = Herb.Grammars.@cfgrammar begin\n",
    "    Int = |([0, 2, 4, 6, 8])\n",
    "    Int = Int * Int\n",
    "    Int = Int + Int\n",
    "end"
   ]
  },
  {
   "cell_type": "markdown",
   "metadata": {},
   "source": [
    "Variables can also be added to the grammar by just using the variable name:"
   ]
  },
  {
   "cell_type": "code",
   "execution_count": 5,
   "metadata": {},
   "outputs": [
    {
     "data": {
      "text/plain": [
       "1: Int = 0\n",
       "2: Int = 1\n",
       "3: Int = 2\n",
       "4: Int = 3\n",
       "5: Int = 4\n",
       "6: Int = 5\n",
       "7: Int = 6\n",
       "8: Int = 7\n",
       "9: Int = 8\n",
       "10: Int = 9\n",
       "11: Int = Int * Int\n",
       "12: Int = Int + Int\n",
       "13: Int = x\n"
      ]
     },
     "execution_count": 5,
     "metadata": {},
     "output_type": "execute_result"
    }
   ],
   "source": [
    "g₁ = Herb.Grammars.@cfgrammar begin\n",
    "    Int = |(0:9)\n",
    "    Int = Int * Int\n",
    "    Int = Int + Int\n",
    "    Int = x\n",
    "end"
   ]
  },
  {
   "cell_type": "markdown",
   "metadata": {},
   "source": [
    "Grammars can also work with functions. \n",
    "After all, `+` and `*` are just infix operators for Julia's identically-named functions.\n",
    "You can use functions that are provided by Julia, or functions that you wrote yourself:"
   ]
  },
  {
   "cell_type": "code",
   "execution_count": 6,
   "metadata": {},
   "outputs": [
    {
     "data": {
      "text/plain": [
       "1: Int = 0\n",
       "2: Int = 1\n",
       "3: Int = 2\n",
       "4: Int = 3\n",
       "5: Int = 4\n",
       "6: Int = 5\n",
       "7: Int = 6\n",
       "8: Int = 7\n",
       "9: Int = 8\n",
       "10: Int = 9\n",
       "11: Int = Int * Int\n",
       "12: Int = Int + Int\n",
       "13: Int = f(Int)\n",
       "14: Int = x\n"
      ]
     },
     "execution_count": 6,
     "metadata": {},
     "output_type": "execute_result"
    }
   ],
   "source": [
    "f(a) = a + 1\n",
    "\n",
    "g₁ = Herb.Grammars.@cfgrammar begin\n",
    "    Int = |(0:9)\n",
    "    Int = Int * Int\n",
    "    Int = Int + Int\n",
    "    Int = f(Int)\n",
    "    Int = x\n",
    "end"
   ]
  },
  {
   "cell_type": "markdown",
   "metadata": {},
   "source": [
    "### Working with grammars\n",
    "\n",
    "If you want to implement something using these grammars, it is useful to know about the functions that you can use to manipulate  a grammar. This section isn't necessarily complete, but it aims to give an overview of the most important functions. \n",
    "\n",
    "It is recommended to also read up on [Julia metaprogramming](https://docs.julialang.org/en/v1/manual/metaprogramming/) if you aren't already familiar with that.\n",
    "\n",
    "One of the most important things about grammars is that each rule has an index associated with it:"
   ]
  },
  {
   "cell_type": "code",
   "execution_count": 7,
   "metadata": {},
   "outputs": [
    {
     "data": {
      "text/plain": [
       "13-element Vector{Tuple{Int64, Any}}:\n",
       " (1, 0)\n",
       " (2, 1)\n",
       " (3, 2)\n",
       " (4, 3)\n",
       " (5, 4)\n",
       " (6, 5)\n",
       " (7, 6)\n",
       " (8, 7)\n",
       " (9, 8)\n",
       " (10, 9)\n",
       " (11, :(Int + Int))\n",
       " (12, :(Int * Int))\n",
       " (13, :x)"
      ]
     },
     "execution_count": 7,
     "metadata": {},
     "output_type": "execute_result"
    }
   ],
   "source": [
    "g₁ = Herb.Grammars.@cfgrammar begin\n",
    "    Int = |(0:9)\n",
    "    Int = Int + Int\n",
    "    Int = Int * Int\n",
    "    Int = x\n",
    "end\n",
    "\n",
    "collect(enumerate(g₁.rules))"
   ]
  },
  {
   "cell_type": "markdown",
   "metadata": {},
   "source": [
    "We can use this index to extract information from the grammar."
   ]
  },
  {
   "cell_type": "markdown",
   "metadata": {},
   "source": [
    "### isterminal\n",
    "\n",
    "`isterminal` returns `true` if a rule is terminal, i.e. it cannot be expanded. For example, rule 1 is terminal, but rule 11 is not, since it contains the non-terminal symbol `:Int`. "
   ]
  },
  {
   "cell_type": "code",
   "execution_count": 8,
   "metadata": {},
   "outputs": [
    {
     "data": {
      "text/plain": [
       "true"
      ]
     },
     "execution_count": 8,
     "metadata": {},
     "output_type": "execute_result"
    }
   ],
   "source": [
    "Herb.Grammars.isterminal(g₁, 1)"
   ]
  },
  {
   "cell_type": "code",
   "execution_count": 9,
   "metadata": {},
   "outputs": [
    {
     "data": {
      "text/plain": [
       "false"
      ]
     },
     "execution_count": 9,
     "metadata": {},
     "output_type": "execute_result"
    }
   ],
   "source": [
    "Herb.Grammars.isterminal(g₁, 11)"
   ]
  },
  {
   "cell_type": "markdown",
   "metadata": {},
   "source": [
    "### return_type\n",
    "\n",
    "This function is rather obvious; it returns the non-terminal symbol that corresponds to a certain rule. The return type for all rules in our grammar is `:Int`."
   ]
  },
  {
   "cell_type": "code",
   "execution_count": 10,
   "metadata": {},
   "outputs": [
    {
     "data": {
      "text/plain": [
       ":Int"
      ]
     },
     "execution_count": 10,
     "metadata": {},
     "output_type": "execute_result"
    }
   ],
   "source": [
    "Herb.Grammars.return_type(g₁, 11)"
   ]
  },
  {
   "cell_type": "markdown",
   "metadata": {},
   "source": [
    "### child_types\n",
    "\n",
    "`child_types` returns the types of the nonterminal children of a rule in a vector.\n",
    "If you just want to know how many children a rule has, and not necessarily which types they have, you can use `nchildren`"
   ]
  },
  {
   "cell_type": "code",
   "execution_count": 11,
   "metadata": {},
   "outputs": [
    {
     "data": {
      "text/plain": [
       "2-element Vector{Symbol}:\n",
       " :Int\n",
       " :Int"
      ]
     },
     "execution_count": 11,
     "metadata": {},
     "output_type": "execute_result"
    }
   ],
   "source": [
    "Herb.Grammars.child_types(g₁, 11)"
   ]
  },
  {
   "cell_type": "code",
   "execution_count": 12,
   "metadata": {},
   "outputs": [
    {
     "data": {
      "text/plain": [
       "2"
      ]
     },
     "execution_count": 12,
     "metadata": {},
     "output_type": "execute_result"
    }
   ],
   "source": [
    "Herb.Grammars.nchildren(g₁, 11)"
   ]
  },
  {
   "cell_type": "markdown",
   "metadata": {},
   "source": [
    "### nonterminals\n",
    "\n",
    "The `nonterminals` function can be used to obtain a list of all nonterminals in the grammar."
   ]
  },
  {
   "cell_type": "code",
   "execution_count": 13,
   "metadata": {},
   "outputs": [
    {
     "data": {
      "text/plain": [
       "1-element Vector{Symbol}:\n",
       " :Int"
      ]
     },
     "execution_count": 13,
     "metadata": {},
     "output_type": "execute_result"
    }
   ],
   "source": [
    "Herb.Grammars.nonterminals(g₁)"
   ]
  },
  {
   "cell_type": "markdown",
   "metadata": {},
   "source": [
    "### Adding rules\n",
    "\n",
    "It is also possible to add rules to a grammar during execution. This can be done using the `add_rule!` function.\n",
    "As with most functions in Julia that end with an exclamation mark, this function modifies its argument (the grammar).\n",
    "\n",
    "A rule can be provided in the same syntax as is used in the grammar definition.\n",
    "The rule should be of the `Expr` type, which is a built-in type for representing expressions. \n",
    "An easy way of creating `Expr` values in Julia is to encapsulate it in brackets and use a colon as prefix:"
   ]
  },
  {
   "cell_type": "code",
   "execution_count": 14,
   "metadata": {},
   "outputs": [
    {
     "data": {
      "text/plain": [
       "1: Int = 0\n",
       "2: Int = 1\n",
       "3: Int = 2\n",
       "4: Int = 3\n",
       "5: Int = 4\n",
       "6: Int = 5\n",
       "7: Int = 6\n",
       "8: Int = 7\n",
       "9: Int = 8\n",
       "10: Int = 9\n",
       "11: Int = Int + Int\n",
       "12: Int = Int * Int\n",
       "13: Int = x\n",
       "14: Int = Int - Int\n"
      ]
     },
     "execution_count": 14,
     "metadata": {},
     "output_type": "execute_result"
    }
   ],
   "source": [
    "Herb.Grammars.add_rule!(g₁, :(Int = Int - Int))"
   ]
  },
  {
   "cell_type": "markdown",
   "metadata": {},
   "source": [
    "### Removing rules\n",
    "\n",
    "It is also possible to remove rules in Herb.jl, however, this is a bit more involved. \n",
    "As said before, rules have an index associated with it. \n",
    "The internal representation of programs that are in the search space defined by the grammar makes use of those indices to efficiently store programs. \n",
    "Blindly removing a rule would shift the indices of other rules, and this could mean that existing programs get a different meaning or become invalid. \n",
    "\n",
    "Therefore, there are two functions associated with removing rules:\n",
    "\n",
    "- `remove_rule!` removes a rule from the grammar, but fills its place with a placeholder. Therefore, the indices stay the same, and only programs that use the removed rule become invalid.\n",
    "- `cleanup_removed_rules!` removes all placeholders and shifts the indices of the other rules.\n"
   ]
  },
  {
   "cell_type": "code",
   "execution_count": 15,
   "metadata": {},
   "outputs": [
    {
     "data": {
      "text/plain": [
       "1: Int = 0\n",
       "2: Int = 1\n",
       "3: Int = 2\n",
       "4: Int = 3\n",
       "5: Int = 4\n",
       "6: Int = 5\n",
       "7: Int = 6\n",
       "8: Int = 7\n",
       "9: Int = 8\n",
       "10: Int = 9\n",
       "11: nothing = nothing\n",
       "12: Int = Int * Int\n",
       "13: Int = x\n",
       "14: Int = Int - Int\n"
      ]
     },
     "execution_count": 15,
     "metadata": {},
     "output_type": "execute_result"
    }
   ],
   "source": [
    "Herb.Grammars.remove_rule!(g₁, 11)"
   ]
  },
  {
   "cell_type": "code",
   "execution_count": 16,
   "metadata": {},
   "outputs": [
    {
     "data": {
      "text/plain": [
       "1: Int = 0\n",
       "2: Int = 1\n",
       "3: Int = 2\n",
       "4: Int = 3\n",
       "5: Int = 4\n",
       "6: Int = 5\n",
       "7: Int = 6\n",
       "8: Int = 7\n",
       "9: Int = 8\n",
       "10: Int = 9\n",
       "11: Int = Int * Int\n",
       "12: Int = x\n",
       "13: Int = Int - Int\n"
      ]
     },
     "execution_count": 16,
     "metadata": {},
     "output_type": "execute_result"
    }
   ],
   "source": [
    "Herb.Grammars.cleanup_removed_rules!(g₁)"
   ]
  },
  {
   "cell_type": "markdown",
   "metadata": {},
   "source": [
    "### Saving & loading grammars\n",
    "\n",
    "If you want to store a grammar on the disk, you can use the `store_cfg` and `read_cfg` functions to store and read grammars respectively. "
   ]
  },
  {
   "cell_type": "code",
   "execution_count": 17,
   "metadata": {},
   "outputs": [],
   "source": [
    "Herb.Grammars.store_cfg(\"demo.txt\", g₁)"
   ]
  },
  {
   "cell_type": "code",
   "execution_count": 18,
   "metadata": {
    "scrolled": false
   },
   "outputs": [
    {
     "data": {
      "text/plain": [
       "1: Int = 0\n",
       "2: Int = 1\n",
       "3: Int = 2\n",
       "4: Int = 3\n",
       "5: Int = 4\n",
       "6: Int = 5\n",
       "7: Int = 6\n",
       "8: Int = 7\n",
       "9: Int = 8\n",
       "10: Int = 9\n",
       "11: Int = Int * Int\n",
       "12: Int = x\n",
       "13: Int = Int - Int\n"
      ]
     },
     "execution_count": 18,
     "metadata": {},
     "output_type": "execute_result"
    }
   ],
   "source": [
    "Herb.Grammars.read_cfg(\"demo.txt\")"
   ]
  },
  {
   "cell_type": "code",
   "execution_count": null,
   "metadata": {},
   "outputs": [],
   "source": []
  }
 ],
 "metadata": {
  "kernelspec": {
   "display_name": "Julia 1.8.2",
   "language": "julia",
   "name": "julia-1.8"
  },
  "language_info": {
   "file_extension": ".jl",
   "mimetype": "application/julia",
   "name": "julia",
   "version": "1.8.2"
  }
 },
 "nbformat": 4,
 "nbformat_minor": 4
}
